{
 "cells": [
  {
   "cell_type": "markdown",
   "metadata": {},
   "source": [
    "Scripts para fazer um teste na biblioteca fci, reproduzindo o artigo>\n",
    "(Explaining the behavior of black-box prediction algorithms with causal learning )"
   ]
  },
  {
   "cell_type": "markdown",
   "metadata": {},
   "source": [
    "Com o objetivo de gerar os grafos de causalidade, fizemos um teste utilizando o experimento com formas geométricas utilizados nos artigos do trabalho.\n"
   ]
  },
  {
   "cell_type": "code",
   "execution_count": 16,
   "metadata": {},
   "outputs": [],
   "source": [
    "# importando bibliotecas:\n",
    "import numpy as np\n",
    "import matplotlib.pyplot as plt\n",
    "import pandas as pd\n",
    "# parametros para geracao do dataset:\n",
    "# numero de pixels da imagem npi x npi\n",
    "npi= 120\n",
    "# numero de amostras n\n",
    "nAmostras = 3000\n",
    "# espessura das linhas\n",
    "esp=3\n",
    "# Raio do Circulo    \n",
    "r=max(3,int(round(npi/25)))"
   ]
  },
  {
   "cell_type": "code",
   "execution_count": 17,
   "metadata": {},
   "outputs": [],
   "source": [
    "# funcao para adicionar quadrados na imagem\n",
    "def add_quadrado(imagem,npi,esp,t_max=int(npi/2)):\n",
    "    # imagem = numero em um dos lados da imagem\n",
    "    # t_max= tamanho maximo do retangulo\n",
    "    if t_max>= npi:\n",
    "        t_max=npi-1\n",
    "        \n",
    "    # gerando o tamanho do quadrado:\n",
    "    t=np.random.randint(1,npi-t_max)\n",
    "    # gerando a posicao do quadrado\n",
    "    px=np.random.randint(0,npi-t-esp)\n",
    "    py=np.random.randint(0,npi-t-esp)\n",
    "    imagem[px:px+t,py:py+esp]=1\n",
    "    imagem[px:px+t,py+t:py+esp+t]=1\n",
    "    imagem[px:px+esp,py:py+t]=1\n",
    "    imagem[px+t:px+t+esp,py:py+t+esp]=1\n",
    "    return imagem\n",
    "\n",
    "# funcao para gerar ruido\n",
    "\n",
    "def add_ruido(imagem,npi):\n",
    "    # quantidade de pixels ruidosos\n",
    "    nr=np.random.randint(0,npi)\n",
    "    #posicao dos pixels ruidosos\n",
    "    for i in range(nr):\n",
    "        px=np.random.randint(0,npi)\n",
    "        py=np.random.randint(0,npi)\n",
    "        imagem[px,py]=1\n",
    "    return imagem\n",
    "        \n",
    "# funcao para adicionar barras verticais na imagem\n",
    "\n",
    "def add_barra_horizontal(imagem,npi,esp):\n",
    "    #posicao da barra horizontal\n",
    "    esp=3\n",
    "    px = np.random.randint(0,npi-esp)\n",
    "    #adicionando a barra horizontal\n",
    "    imagem[px:px+esp,0:npi]=1\n",
    "    return imagem\n",
    "\n",
    "# funcao para adicionar barras horizontais na imagem\n",
    "\n",
    "def add_barra_vertical(imagem,npi,esp):\n",
    "     #posicao da barra vertical\n",
    "    py = np.random.randint(0,npi-esp)\n",
    "    #adicionando a barra vertical\n",
    "    imagem[0:npi,py:py+esp]=1\n",
    "    return imagem\n",
    "\n",
    "# funcao para adicionar circulos na imagem\n",
    "\n",
    "def add_circulos(imagem,npi,r):\n",
    "    \n",
    "    # r=raio do circulo\n",
    "\n",
    "    # posicao do circulo\n",
    "    py = np.random.randint(r+1,npi-r-1)\n",
    "    px = np.random.randint(r+1,npi-r-1)\n",
    "    #adicionando circulo na imagem \n",
    "    for i in range(r):\n",
    "        for j in range(r):\n",
    "            if np.sqrt(i**2+j**2)<=r:\n",
    "                imagem[px+i,py+j]=1\n",
    "                imagem[px-i,py+j]=1\n",
    "                imagem[px+i,py-j]=1\n",
    "                imagem[px-i,py-j]=1        \n",
    "    return imagem\n",
    "    "
   ]
  },
  {
   "cell_type": "code",
   "execution_count": 18,
   "metadata": {},
   "outputs": [],
   "source": [
    "# funcoes para gerar as imagens com formas geometricas\n",
    "def expit(x):\n",
    "    return 1/(1+np.exp(-x))\n",
    "\n",
    "def gera_amostras(npi,esp,r):\n",
    "    #gerando distribuicoes\n",
    "    U1=np.random.randint(0,100)/100\n",
    "    U2=np.random.randint(0,100)/100\n",
    "    pV=1-U1\n",
    "    pH=U1\n",
    "    pC=U2\n",
    "    V= np.random.binomial(1, pV, size=None)\n",
    "    H= np.random.binomial(1, pH, size=None)\n",
    "    C= np.random.binomial(1, pC, size=None)\n",
    "    pR=expit(0.75*H+0.5*C)\n",
    "    pY=expit(-0.5+2.5*V+1.75*C)\n",
    "    R= np.random.binomial(1, pR, size=None)\n",
    "    Y= np.random.binomial(1, pY, size=None)\n",
    "    \n",
    "    # gerando imagem\n",
    "    imagem=np.zeros((npi,npi))\n",
    "    imagem=add_ruido(imagem,npi)\n",
    "    if V==1:\n",
    "        imagem=add_barra_vertical(imagem,npi,esp)\n",
    "    if C==1:\n",
    "        imagem=add_circulos(imagem,npi,r)\n",
    "    if R==1:\n",
    "        imagem=add_quadrado(imagem,npi,esp)\n",
    "    if H==1:\n",
    "        imagem=add_barra_horizontal(imagem,npi,esp)\n",
    "    labels={'V':V,'H':H,'C':C,'R':R,'Y':Y}\n",
    "    return(labels,imagem)"
   ]
  },
  {
   "cell_type": "code",
   "execution_count": 14,
   "metadata": {},
   "outputs": [
    {
     "data": {
      "image/png": "[encoded data removed]",
      "text/plain": [
       "<Figure size 1080x1080 with 3 Axes>"
      ]
     },
     "metadata": {
      "needs_background": "light"
     },
     "output_type": "display_data"
    }
   ],
   "source": [
    "#imagem=np.zeros((npi,npi))\n",
    "labels1,imagem1=gera_amostras(npi,esp,r)\n",
    "labels2,imagem2=gera_amostras(npi,esp,r)\n",
    "labels3,imagem3=gera_amostras(npi,esp,r)\n",
    "\n",
    "plt.figure(figsize=(15,15))\n",
    "plt.subplot(1,3,1)\n",
    "plt.imshow(imagem1,cmap='Greys_r')\n",
    "titulo=\"V=\"+str(labels1['V'])+\", H=\"+str(labels1['H'])+\", C=\"+str(labels1['C'])+\", R=\"+str(labels1['R'])+\" Y=\"+str(labels1['Y'])\n",
    "plt.title(titulo)\n",
    "plt.subplot(1,3,2)\n",
    "plt.imshow(imagem2,cmap='Greys_r')\n",
    "titulo=\"V=\"+str(labels2['V'])+\", H=\"+str(labels2['H'])+\", C=\"+str(labels2['C'])+\", R=\"+str(labels2['R'])+\" Y=\"+str(labels2['Y'])\n",
    "plt.title(titulo)\n",
    "plt.subplot(1,3,3)\n",
    "plt.imshow(imagem2,cmap='Greys_r')\n",
    "titulo=\"V=\"+str(labels2['V'])+\", H=\"+str(labels2['H'])+\", C=\"+str(labels2['C'])+\", R=\"+str(labels2['R'])+\" Y=\"+str(labels2['Y'])\n",
    "plt.title(titulo)\n",
    "plt.savefig('AmostrasSintéticas.png',bbox_inches='tight')\n",
    "plt.show()"
   ]
  },
  {
   "cell_type": "code",
   "execution_count": 26,
   "metadata": {},
   "outputs": [],
   "source": [
    "#Simulacao\n",
    "df = pd.DataFrame(columns=('imagem', 'V','H','C','R','Y'))\n",
    "\n",
    "df = pd.DataFrame(columns=('imagem', 'V','H','C','R','Y'))\n",
    "labels2=np.zeros((nAmostras,5))\n",
    "for i in range(nAmostras):\n",
    "    labels,imagem=gera_amostras(npi,esp,r)\n",
    "    nomeimage='img_'+str(i+1).zfill(4)\n",
    "    labels['imagem']=nomeimage\n",
    "    # adicionando os labels no dataframe\n",
    "    df_dict = pd.DataFrame([labels])\n",
    "    df=pd.concat([df, df_dict], ignore_index=True)\n",
    "    # salvando a imgem\n",
    "    #np.save(nomeimage+'.npy',imagem)\n",
    "    labels2[i,0]=labels['V']\n",
    "    labels2[i,1]=labels['H']\n",
    "    labels2[i,2]=labels['C']\n",
    "    labels2[i,3]=labels['R']\n",
    "    labels2[i,4]=labels['Y']\n",
    "    "
   ]
  },
  {
   "cell_type": "markdown",
   "metadata": {},
   "source": [
    "Agora vamos gerar o grafo de causalidade, a exemplo do artigo *Explaining the behavior of black-box prediction algorithms with causal learning*, vamos utilizar o algoritmo FCI, disponível na biblioteca causal-learn. "
   ]
  },
  {
   "cell_type": "code",
   "execution_count": 27,
   "metadata": {},
   "outputs": [
    {
     "name": "stdout",
     "output_type": "stream",
     "text": [
      "Starting Fast Adjacency Search.\n"
     ]
    },
    {
     "data": {
      "application/vnd.jupyter.widget-view+json": {
       "model_id": "b15606b5d7764fb3a0bb5d2a0d9ff322",
       "version_major": 2,
       "version_minor": 0
      },
      "text/plain": [
       "HBox(children=(FloatProgress(value=0.0, max=5.0), HTML(value='')))"
      ]
     },
     "metadata": {},
     "output_type": "display_data"
    },
    {
     "name": "stdout",
     "output_type": "stream",
     "text": [
      "\n",
      "Finishing Fast Adjacency Search.\n"
     ]
    }
   ],
   "source": [
    "from causallearn.search.ConstraintBased.FCI import fci\n",
    "\n",
    "G, edges = fci(labels2, independence_test_method='kci')"
   ]
  },
  {
   "cell_type": "code",
   "execution_count": 70,
   "metadata": {},
   "outputs": [],
   "source": [
    "df2 = pd.DataFrame(columns=('node1', 'term_node1','term_node2','node2'))\n",
    "dict1={}\n",
    "dict2={'X1':'V','X2':'H','X3':'C','X4':'R','X5':'Y'}\n",
    "for i in range(len(edges)):\n",
    "    dict1['node1']=dict2[edges[i].get_node1().get_name()]\n",
    "    dict1['node2']=dict2[edges[i].get_node2().get_name()]\n",
    "    dict1['term_node1']=edges[i].get_endpoint1()\n",
    "    dict1['term_node2']=edges[i].get_endpoint2()\n",
    "    df_dict = pd.DataFrame([dict1])\n",
    "    df2=pd.concat([df2, df_dict], ignore_index=True)"
   ]
  },
  {
   "cell_type": "markdown",
   "metadata": {},
   "source": [
    "Agora vamos dar uma olhada no grafo"
   ]
  },
  {
   "cell_type": "code",
   "execution_count": 71,
   "metadata": {},
   "outputs": [
    {
     "data": {
      "text/html": [
       "<div>\n",
       "<style scoped>\n",
       "    .dataframe tbody tr th:only-of-type {\n",
       "        vertical-align: middle;\n",
       "    }\n",
       "\n",
       "    .dataframe tbody tr th {\n",
       "        vertical-align: top;\n",
       "    }\n",
       "\n",
       "    .dataframe thead th {\n",
       "        text-align: right;\n",
       "    }\n",
       "</style>\n",
       "<table border=\"1\" class=\"dataframe\">\n",
       "  <thead>\n",
       "    <tr style=\"text-align: right;\">\n",
       "      <th></th>\n",
       "      <th>node1</th>\n",
       "      <th>term_node1</th>\n",
       "      <th>term_node2</th>\n",
       "      <th>node2</th>\n",
       "    </tr>\n",
       "  </thead>\n",
       "  <tbody>\n",
       "    <tr>\n",
       "      <th>0</th>\n",
       "      <td>V</td>\n",
       "      <td>CIRCLE</td>\n",
       "      <td>ARROW</td>\n",
       "      <td>H</td>\n",
       "    </tr>\n",
       "    <tr>\n",
       "      <th>1</th>\n",
       "      <td>V</td>\n",
       "      <td>CIRCLE</td>\n",
       "      <td>ARROW</td>\n",
       "      <td>Y</td>\n",
       "    </tr>\n",
       "    <tr>\n",
       "      <th>2</th>\n",
       "      <td>H</td>\n",
       "      <td>ARROW</td>\n",
       "      <td>ARROW</td>\n",
       "      <td>R</td>\n",
       "    </tr>\n",
       "    <tr>\n",
       "      <th>3</th>\n",
       "      <td>C</td>\n",
       "      <td>CIRCLE</td>\n",
       "      <td>ARROW</td>\n",
       "      <td>R</td>\n",
       "    </tr>\n",
       "    <tr>\n",
       "      <th>4</th>\n",
       "      <td>C</td>\n",
       "      <td>CIRCLE</td>\n",
       "      <td>ARROW</td>\n",
       "      <td>Y</td>\n",
       "    </tr>\n",
       "  </tbody>\n",
       "</table>\n",
       "</div>"
      ],
      "text/plain": [
       "  node1 term_node1 term_node2 node2\n",
       "0     V     CIRCLE      ARROW     H\n",
       "1     V     CIRCLE      ARROW     Y\n",
       "2     H      ARROW      ARROW     R\n",
       "3     C     CIRCLE      ARROW     R\n",
       "4     C     CIRCLE      ARROW     Y"
      ]
     },
     "execution_count": 71,
     "metadata": {},
     "output_type": "execute_result"
    }
   ],
   "source": [
    "df2"
   ]
  }
 ],
 "metadata": {
  "kernelspec": {
   "display_name": "Python 3",
   "language": "python",
   "name": "python3"
  },
  "language_info": {
   "codemirror_mode": {
    "name": "ipython",
    "version": 3
   },
   "file_extension": ".py",
   "mimetype": "text/x-python",
   "name": "python",
   "nbconvert_exporter": "python",
   "pygments_lexer": "ipython3",
   "version": "3.8.3"
  }
 },
 "nbformat": 4,
 "nbformat_minor": 4
}
